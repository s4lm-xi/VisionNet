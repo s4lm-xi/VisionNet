{
 "cells": [
  {
   "cell_type": "code",
   "execution_count": 1,
   "metadata": {},
   "outputs": [],
   "source": [
    "from keras.models import load_model\n",
    "import numpy as np\n",
    "import cv2\n",
    "from skimage.transform import resize\n",
    "import moviepy.video.io.ImageSequenceClip\n",
    "import os\n",
    "from tqdm import tqdm\n",
    "from os.path import isfile, join\n",
    "import pandas as pd\n",
    "import matplotlib.pyplot as plt\n",
    "%matplotlib inline"
   ]
  },
  {
   "cell_type": "code",
   "execution_count": 28,
   "metadata": {
    "scrolled": true
   },
   "outputs": [
    {
     "name": "stderr",
     "output_type": "stream",
     "text": [
      "<ipython-input-28-f14d3d4d0983>:18: UserWarning: Attempting to set identical bottom == top == -0.5 results in singular transformations; automatically expanding.\n",
      "  plt.imshow(eye_roi)\n"
     ]
    },
    {
     "data": {
      "image/png": "[encoded data removed]",
      "text/plain": [
       "<Figure size 432x288 with 1 Axes>"
      ]
     },
     "metadata": {
      "needs_background": "light"
     },
     "output_type": "display_data"
    }
   ],
   "source": [
    "eyePath = 'xml/eye.xml'\n",
    "facePath = 'xml/haarcascade_frontalface_default.xml'\n",
    "face_cascade = cv2.CascadeClassifier(facePath)\n",
    "eye_cascade = cv2.CascadeClassifier(eyePath)\n",
    "\n",
    "img = cv2.imread('happy.jpeg')\n",
    "img = cv2.cvtColor(img, cv2.COLOR_BGR2GRAY)\n",
    "\n",
    "faces = face_cascade.detectMultiScale(img)\n",
    "\n",
    "for (x,y,w,h) in faces:\n",
    "    roi = img[y:y+h, x:x+w]\n",
    "    \n",
    "    eyes = eye_cascade.detectMultiScale(roi)\n",
    "    for (ex,ey,ew,eh) in eyes:\n",
    "        eye_roi = roi[ey:ey:+eh, ex:ex+ew]\n",
    "    \n",
    "plt.imshow(eye_roi)\n",
    "\n",
    "del roi"
   ]
  },
  {
   "cell_type": "code",
   "execution_count": 2,
   "metadata": {},
   "outputs": [],
   "source": [
    "# Turn on the webcam for 5 seconds\n",
    "def camcapture():\n",
    "    video = cv2.VideoCapture(0)\n",
    "    \n",
    "    while True:\n",
    "        img = video.read()\n",
    "        \n",
    "        time.sleep(5)\n",
    "        \n",
    "        video.release()\n",
    "        cv2.destroyAllWindows()\n",
    "        break"
   ]
  },
  {
   "cell_type": "code",
   "execution_count": 12,
   "metadata": {},
   "outputs": [],
   "source": [
    "def detect():\n",
    "    \n",
    "    model = load_model('weights/ResNet-50.h5')\n",
    "    capture = cv2.VideoCapture('online_mode/input/input.mp4')\n",
    "    path = 'xml/haarcascade_frontalface_default.xml'\n",
    "    faceCascade = cv2.CascadeClassifier(path)\n",
    "    text = ''\n",
    "    found = 0\n",
    "    index = 0\n",
    "    data = {\n",
    "        'frame' : [],\n",
    "        'class' : []\n",
    "    }\n",
    "\n",
    "    \n",
    "    while True:\n",
    "        _, frame = capture.read()\n",
    "        \n",
    "        try:\n",
    "             # Convert to grayscale\n",
    "            gray = cv2.cvtColor(frame, cv2.COLOR_BGR2GRAY)\n",
    "\n",
    "\n",
    "            # Detect faces\n",
    "            faces = faceCascade.detectMultiScale(gray, scaleFactor=1.3)\n",
    "\n",
    "            if len(faces) > 0:\n",
    "                for (x,y,w,h) in faces:\n",
    "                    roi = frame[y:y+h, x:x+w]\n",
    "                    # Resized roi \n",
    "                    res = resize(roi, (197,197,3))\n",
    "                    res = np.expand_dims(res, 0)\n",
    "\n",
    "                    # Feed the model the roi image\n",
    "                    pred = np.argmax(model.predict(res))\n",
    "                    if pred == 0 or pred == 3:\n",
    "                        text = 'Happy'\n",
    "                    elif pred == 1 or pred == 4:\n",
    "                        text = 'Sad'\n",
    "                    elif pred == 2 or pred == 5:\n",
    "                        text = 'Surprise'\n",
    "                    else:\n",
    "                        text = 'Neutral'\n",
    "\n",
    "                    cv2.rectangle(frame, (x,y), (x+w, y+h), (0,255,0), 2)\n",
    "                    cv2.putText(frame, text, (x, y-10), cv2.FONT_HERSHEY_SIMPLEX, 0.5, (0,255,0), 2)\n",
    "                    cv2.imwrite(f'online_mode/frames/{str(index)}.jpg', frame)\n",
    "                    index +=1\n",
    "                    found+=1\n",
    "\n",
    "                    data['frame'].append(found)\n",
    "                    data['class'].append(text)\n",
    "                    \n",
    "            cv2.imwrite(f'online_mode/frames/{str(index)}.jpg', frame)\n",
    "            index +=1\n",
    "        except:\n",
    "            print(f'Total Frames: {index}')\n",
    "            print(f'{found} faces found!')\n",
    "            break\n",
    "\n",
    "\n",
    "    \n",
    "                \n",
    "            \n",
    "    df = pd.DataFrame(data, columns=['frame', 'class'])\n",
    "    df.to_csv('online_mode/results.csv', index=False, header=True)\n",
    "    df.head()"
   ]
  },
  {
   "cell_type": "code",
   "execution_count": 13,
   "metadata": {},
   "outputs": [
    {
     "name": "stdout",
     "output_type": "stream",
     "text": [
      "Total Frames: 7625\n",
      "6733 faces found!\n"
     ]
    }
   ],
   "source": [
    "detect()"
   ]
  },
  {
   "cell_type": "code",
   "execution_count": 4,
   "metadata": {},
   "outputs": [],
   "source": [
    "def toVideo():\n",
    "    #Convert frames to a video\n",
    "    fps = 30\n",
    "    path = '../frames/'\n",
    "    name = '../input/output.mp4'\n",
    "    img_file = [path+str(i)+'.jpg' for i in range(len(os.listdir(path)))]\n",
    "    img = cv2.imread(img_file[0])\n",
    "    height, width, channel = img.shape\n",
    "\n",
    "    video = cv2.VideoWriter(name, cv2.VideoWriter_fourcc(*'XVID'), fps, (width, height))\n",
    "    print('Converting..')\n",
    "\n",
    "    for image in tqdm(img_file):\n",
    "        video.write(cv2.imread(image))\n",
    "\n",
    "    cv2.destroyAllWindows()\n",
    "    video.release()"
   ]
  },
  {
   "cell_type": "code",
   "execution_count": 5,
   "metadata": {},
   "outputs": [
    {
     "name": "stderr",
     "output_type": "stream",
     "text": [
      "\r",
      "  0%|          | 0/7625 [00:00<?, ?it/s]"
     ]
    },
    {
     "name": "stdout",
     "output_type": "stream",
     "text": [
      "Converting..\n"
     ]
    },
    {
     "name": "stderr",
     "output_type": "stream",
     "text": [
      "100%|██████████| 7625/7625 [03:04<00:00, 41.36it/s]\n"
     ]
    }
   ],
   "source": [
    "toVideo()"
   ]
  },
  {
   "cell_type": "code",
   "execution_count": null,
   "metadata": {},
   "outputs": [],
   "source": []
  }
 ],
 "metadata": {
  "kernelspec": {
   "display_name": "Python 3",
   "language": "python",
   "name": "python3"
  },
  "language_info": {
   "codemirror_mode": {
    "name": "ipython",
    "version": 3
   },
   "file_extension": ".py",
   "mimetype": "text/x-python",
   "name": "python",
   "nbconvert_exporter": "python",
   "pygments_lexer": "ipython3",
   "version": "3.8.3"
  }
 },
 "nbformat": 4,
 "nbformat_minor": 4
}
