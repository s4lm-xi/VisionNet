{
 "cells": [
  {
   "cell_type": "code",
   "execution_count": 3,
   "metadata": {},
   "outputs": [],
   "source": [
    "!pip freeze > req.txt"
   ]
  },
  {
   "cell_type": "code",
   "execution_count": 1,
   "metadata": {},
   "outputs": [],
   "source": [
    "import os, shutil\n",
    "from keras.models import load_model\n",
    "import cv2\n",
    "import pandas as pd\n",
    "import subprocess as sa\n",
    "import os\n",
    "import random as rn\n",
    "os.environ['PYGAME_HIDE_SUPPORT_PROMPT'] = \"hide\"\n",
    "import pygame\n",
    "from skimage.transform import resize\n",
    "import numpy as np\n",
    "from tqdm import tqdm\n",
    "import time\n",
    "import matplotlib.pyplot as plt\n",
    "from sklearn.preprocessing import LabelEncoder\n",
    "import seaborn as sns\n",
    "from tsmoothie.smoother import *\n",
    "import warnings \n",
    "warnings.filterwarnings('ignore')\n",
    "plt.style.use('fivethirtyeight')"
   ]
  },
  {
   "cell_type": "code",
   "execution_count": 2,
   "metadata": {},
   "outputs": [
    {
     "name": "stdout",
     "output_type": "stream",
     "text": [
      "[!] Detecting\n",
      "[!] 10 faces detected so far!\n",
      "[!] 20 faces detected so far!\n",
      "[!] 30 faces detected so far!\n",
      "[!] 40 faces detected so far!\n",
      "[!] 50 faces detected so far!\n",
      "[!] 60 faces detected so far!\n",
      "[!] 70 faces detected so far!\n",
      "[!] 80 faces detected so far!\n",
      "[!] 90 faces detected so far!\n",
      "[!] 100 faces detected so far!\n",
      "[!] 110 faces detected so far!\n",
      "Total Frames: 535\n",
      "116 faces found!\n"
     ]
    }
   ],
   "source": [
    "print('[!] Detecting')\n",
    "\n",
    "model = load_model('weights/ResNet-50.h5')\n",
    "video = cv2.VideoCapture('input/input.mp4')\n",
    "path = 'xml/haarcascade_frontalface_default.xml'\n",
    "faceCascade = cv2.CascadeClassifier(path)\n",
    "\n",
    "text = ''\n",
    "found = 0\n",
    "index = 0\n",
    "data = {\n",
    "    'frame' : [],\n",
    "    'class' : []\n",
    "}\n",
    "\n",
    "cap=cv2.VideoCapture(0)\n",
    "while True:\n",
    "    _, frame = cap.read()\n",
    "    if _:\n",
    "         # Convert to grayscale\n",
    "        gray = cv2.cvtColor(frame, cv2.COLOR_BGR2GRAY)\n",
    "        # Detect faces\n",
    "        faces = faceCascade.detectMultiScale(gray, scaleFactor=1.3)\n",
    "\n",
    "        if len(faces) > 0:\n",
    "            for (x,y,w,h) in faces:\n",
    "                roi = frame[y:y+h, x:x+w]\n",
    "                # Resized roi \n",
    "                res = resize(roi, (197,197,3))\n",
    "                res = np.expand_dims(res, 0)\n",
    "\n",
    "                # Feed the model the roi image\n",
    "                pred = np.argmax(model.predict(res))\n",
    "                if pred == 0 or pred == 3:\n",
    "                    text = 'Satisfied'\n",
    "                elif pred == 1 or pred == 4:\n",
    "                    text = 'Unsatisfied'\n",
    "                elif pred == 2 or pred == 5:\n",
    "                    text = 'Amazed'\n",
    "                else:\n",
    "                    text = 'Engaged'\n",
    "\n",
    "                cv2.rectangle(frame, (x,y), (x+w, y+h), (0,255,0), 2)\n",
    "                cv2.putText(frame, text, (x, y-10), cv2.FONT_HERSHEY_SIMPLEX, 0.5, (0,255,0), 2)\n",
    "                found+=1\n",
    "\n",
    "                data['frame'].append(found)\n",
    "                data['class'].append(text)\n",
    "\n",
    "                if str(found)[-1] == '0':\n",
    "                    print(f'[!] {found} faces detected so far!')\n",
    "                    \n",
    "        cv2.imshow('Results', frame)\n",
    "        if cv2.waitKey(1) & 0xFF == ord('q'):\n",
    "            cv2.destroyAllWindows()\n",
    "            cap.release() \n",
    "            False\n",
    "\n",
    "        #cv2.imwrite(f'frames/{str(index)}.jpg', frame)\n",
    "        index +=1\n",
    "        \n",
    "    else:\n",
    "        break\n",
    "    \n",
    "    \n",
    "\n",
    "\n",
    "cv2.destroyAllWindows()\n",
    "print(f'Total Frames: {index}')\n",
    "print(f'{found} faces found!')\n",
    "df = pd.DataFrame(data, columns=['frame', 'class'])\n",
    "df.to_csv('results.csv', index=False, header=True)"
   ]
  },
  {
   "cell_type": "code",
   "execution_count": null,
   "metadata": {},
   "outputs": [],
   "source": [
    "cap."
   ]
  },
  {
   "cell_type": "code",
   "execution_count": 8,
   "metadata": {},
   "outputs": [],
   "source": [
    "img = cv2.imread('frames/0.jpg')\n",
    "\n",
    "cv2.imshow('Results', img)\n",
    "cv2.waitKey(0)\n",
    "cv2.destroyAllWindows()"
   ]
  },
  {
   "cell_type": "code",
   "execution_count": 5,
   "metadata": {},
   "outputs": [
    {
     "data": {
      "text/plain": [
       "-1"
      ]
     },
     "execution_count": 5,
     "metadata": {},
     "output_type": "execute_result"
    }
   ],
   "source": [
    "cv2.waitKey(0)"
   ]
  },
  {
   "cell_type": "code",
   "execution_count": 7,
   "metadata": {},
   "outputs": [],
   "source": [
    "cv2.destroyAllWindows()"
   ]
  },
  {
   "cell_type": "code",
   "execution_count": null,
   "metadata": {},
   "outputs": [],
   "source": []
  }
 ],
 "metadata": {
  "kernelspec": {
   "display_name": "Python 3",
   "language": "python",
   "name": "python3"
  },
  "language_info": {
   "codemirror_mode": {
    "name": "ipython",
    "version": 3
   },
   "file_extension": ".py",
   "mimetype": "text/x-python",
   "name": "python",
   "nbconvert_exporter": "python",
   "pygments_lexer": "ipython3",
   "version": "3.8.3"
  }
 },
 "nbformat": 4,
 "nbformat_minor": 4
}
