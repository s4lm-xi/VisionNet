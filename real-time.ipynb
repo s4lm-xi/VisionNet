{
 "cells": [
  {
   "cell_type": "code",
   "execution_count": 3,
   "metadata": {},
   "outputs": [],
   "source": [
    "!pip freeze > req.txt"
   ]
  },
  {
   "cell_type": "code",
   "execution_count": 1,
   "metadata": {},
   "outputs": [],
   "source": [
    "import os, shutil\n",
    "from keras.models import load_model\n",
    "import cv2\n",
    "import pandas as pd\n",
    "import subprocess as sa\n",
    "import os\n",
    "import random as rn\n",
    "os.environ['PYGAME_HIDE_SUPPORT_PROMPT'] = \"hide\"\n",
    "import pygame\n",
    "from skimage.transform import resize\n",
    "import numpy as np\n",
    "from tqdm import tqdm\n",
    "import time\n",
    "import matplotlib.pyplot as plt\n",
    "from sklearn.preprocessing import LabelEncoder\n",
    "import seaborn as sns\n",
    "from tsmoothie.smoother import *\n",
    "import warnings \n",
    "warnings.filterwarnings('ignore')\n",
    "plt.style.use('fivethirtyeight')"
   ]
  },
  {
   "cell_type": "code",
   "execution_count": 2,
   "metadata": {},
   "outputs": [
    {
     "name": "stdout",
     "output_type": "stream",
     "text": [
      "[!] Detecting\n",
      "[!] 10 faces detected so far!\n",
      "[!] 20 faces detected so far!\n",
      "[!] 30 faces detected so far!\n",
      "[!] 40 faces detected so far!\n",
      "[!] 50 faces detected so far!\n",
      "[!] 60 faces detected so far!\n",
      "[!] 70 faces detected so far!\n",
      "[!] 80 faces detected so far!\n",
      "[!] 90 faces detected so far!\n",
      "[!] 100 faces detected so far!\n",
      "[!] 110 faces detected so far!\n",
      "Total Frames: 535\n",
      "116 faces found!\n"
     ]
    }
   ],
   "source": [
    "print('[!] Detecting')\n",
    "\n",
    "model = load_model('weights/ResNet-50.h5')\n",
    "video = cv2.VideoCapture('input/input.mp4')\n",
    "path = 'xml/haarcascade_frontalface_default.xml'\n",
    "faceCascade = cv2.CascadeClassifier(path)\n",
    "\n",
    "text = ''\n",
    "found = 0\n",
    "index = 0\n",
    "data = {\n",
    "    'frame' : [],\n",
    "    'class' : []\n",
    "}\n",
    "\n",
    "cap=cv2.VideoCapture(0)\n",
    "while True:\n",
    "    _, frame = cap.read()\n",
    "    if _:\n",
    "         # Convert to grayscale\n",
    "        gray = cv2.cvtColor(frame, cv2.COLOR_BGR2GRAY)\n",
    "        # Detect faces\n",
    "        faces = faceCascade.detectMultiScale(gray, scaleFactor=1.3)\n",
    "\n",
    "        if len(faces) > 0:\n",
    "            for (x,y,w,h) in faces:\n",
    "                roi = frame[y:y+h, x:x+w]\n",
    "                # Resized roi \n",
    "                res = resize(roi, (197,197,3))\n",
    "                res = np.expand_dims(res, 0)\n",
    "\n",
    "                # Feed the model the roi image\n",
    "                pred = np.argmax(model.predict(res))\n",
    "                if pred == 0 or pred == 3:\n",
    "                    text = 'Satisfied'\n",
    "                elif pred == 1 or pred == 4:\n",
    "                    text = 'Unsatisfied'\n",
    "                elif pred == 2 or pred == 5:\n",
    "                    text = 'Amazed'\n",
    "                else:\n",
    "                    text = 'Engaged'\n",
    "\n",
    "                cv2.rectangle(frame, (x,y), (x+w, y+h), (0,255,0), 2)\n",
    "                cv2.putText(frame, text, (x, y-10), cv2.FONT_HERSHEY_SIMPLEX, 0.5, (0,255,0), 2)\n",
    "                found+=1\n",
    "\n",
    "                data['frame'].append(found)\n",
    "                data['class'].append(text)\n",
    "\n",
    "                if str(found)[-1] == '0':\n",
    "                    print(f'[!] {found} faces detected so far!')\n",
    "                    \n",
    "        cv2.imshow('Results', frame)\n",
    "        if cv2.waitKey(1) & 0xFF == ord('q'):\n",
    "            cv2.destroyAllWindows()\n",
    "            cap.release() \n",
    "            False\n",
    "\n",
    "        #cv2.imwrite(f'frames/{str(index)}.jpg', frame)\n",
    "        index +=1\n",
    "        \n",
    "    else:\n",
    "        break\n",
    "    \n",
    "    \n",
    "\n",
    "\n",
    "cv2.destroyAllWindows()\n",
    "print(f'Total Frames: {index}')\n",
    "print(f'{found} faces found!')\n",
    "df = pd.DataFrame(data, columns=['frame', 'class'])\n",
    "df.to_csv('results.csv', index=False, header=True)"
   ]
  },
  {
   "cell_type": "markdown",
   "metadata": {},
   "source": [
    "### 1"
   ]
  },
  {
   "cell_type": "code",
   "execution_count": 48,
   "metadata": {
    "collapsed": true,
    "jupyter": {
     "outputs_hidden": true
    },
    "tags": []
   },
   "outputs": [
    {
     "data": {
      "text/plain": [
       "<BarContainer object of 2 artists>"
      ]
     },
     "execution_count": 48,
     "metadata": {},
     "output_type": "execute_result"
    },
    {
     "data": {
      "image/png": "[encoded data removed]",
      "text/plain": [
       "<Figure size 432x288 with 1 Axes>"
      ]
     },
     "metadata": {
      "needs_background": "light"
     },
     "output_type": "display_data"
    }
   ],
   "source": [
    "data = pd.read_csv('results.csv')\n",
    "\n",
    "frame_nox = [i for i in range(data.shape[0])]\n",
    "emotions = [i for i in data.iloc[:, 1]]\n",
    "\n",
    "emotion_names = [i for i in data['class'].unique()]\n",
    "frequency_all = [i for i in data['class'].value_counts()]\n",
    "\n",
    "plt.bar(emotion_names, frequency_all)"
   ]
  },
  {
   "cell_type": "markdown",
   "metadata": {},
   "source": [
    "### 2"
   ]
  },
  {
   "cell_type": "code",
   "execution_count": null,
   "metadata": {},
   "outputs": [],
   "source": [
    "emotion_occurunce_frameno = []\n",
    "for i in emotions:\n",
    "    if i == 'Upset':\n",
    "        emotion_occurunce_frameno.append(1)\n",
    "    elif i == 'Annoyed':\n",
    "        emotion_occurunce_frameno.append(2)\n",
    "    elif i == 'Distress':\n",
    "        emotion_occurunce_frameno.append(3)\n",
    "    elif i == 'Satisfied':\n",
    "        emotion_occurunce_frameno.append(4)\n",
    "    elif i == 'Dissatisfied':\n",
    "        emotion_occurunce_frameno.append(5)\n",
    "    elif i == 'Neutral':\n",
    "        emotion_occurunce_frameno.append(6)\n",
    "    elif i == 'Amazed':\n",
    "        emotion_occurunce_frameno.append(7)\n",
    "        \n",
    "    else:\n",
    "        print(i)\n",
    "plt.scatter(frame_nox, emotion_occurunce_frameno)\n",
    "#plt.savefig('2.jpg')"
   ]
  },
  {
   "cell_type": "markdown",
   "metadata": {
    "jupyter": {
     "outputs_hidden": true
    },
    "tags": []
   },
   "source": [
    "### 3"
   ]
  },
  {
   "cell_type": "code",
   "execution_count": 62,
   "metadata": {},
   "outputs": [
    {
     "name": "stdout",
     "output_type": "stream",
     "text": [
      "increase in Neutral emotions between 0 and 100\n",
      "increase in Neutral emotions between 100 and 200\n",
      "increase in Neutral emotions between 200 and 300\n",
      "increase in Neutral emotions between 300 and 400\n",
      "increase in Neutral emotions between 400 and 500\n",
      "increase in Neutral emotions between 500 and 600\n",
      "increase in Neutral emotions between 600 and 700\n",
      "increase in Neutral emotions between 700 and 800\n",
      "increase in Neutral emotions between 800 and 900\n",
      "increase in Neutral emotions between 900 and 1000\n",
      "increase in Neutral emotions between 1000 and 1100\n",
      "increase in Neutral emotions between 1100 and 1200\n",
      "increase in Neutral emotions between 1200 and 1300\n",
      "increase in Neutral emotions between 1300 and 1400\n",
      "increase in Neutral emotions between 1400 and 1500\n",
      "increase in Neutral emotions between 1500 and 1600\n",
      "increase in Neutral emotions between 1600 and 1700\n",
      "increase in Neutral emotions between 1700 and 1800\n",
      "increase in Neutral emotions between 1800 and 1900\n",
      "increase in Neutral emotions between 1900 and 2000\n",
      "increase in Neutral emotions between 2000 and 2100\n",
      "increase in Neutral emotions between 2100 and 2200\n",
      "increase in Neutral emotions between 2200 and 2300\n",
      "increase in Neutral emotions between 2300 and 2400\n",
      "increase in Neutral emotions between 2400 and 2500\n",
      "increase in Neutral emotions between 2500 and 2600\n",
      "increase in Neutral emotions between 2600 and 2700\n",
      "increase in Neutral emotions between 2700 and 2800\n",
      "increase in Neutral emotions between 2800 and 2900\n",
      "increase in Neutral emotions between 2900 and 3000\n",
      "increase in Neutral emotions between 3000 and 3100\n",
      "increase in Neutral emotions between 3100 and 3200\n",
      "increase in Neutral emotions between 3200 and 3300\n",
      "increase in Neutral emotions between 3300 and 3400\n",
      "increase in Neutral emotions between 3400 and 3500\n",
      "increase in Neutral emotions between 3500 and 3600\n",
      "increase in Neutral emotions between 3600 and 3700\n",
      "increase in Neutral emotions between 3700 and 3800\n",
      "increase in Neutral emotions between 3800 and 3900\n",
      "increase in Neutral emotions between 3900 and 4000\n",
      "increase in Neutral emotions between 4000 and 4100\n"
     ]
    },
    {
     "data": {
      "text/plain": [
       "[<matplotlib.lines.Line2D at 0x7f5d019cfa60>]"
      ]
     },
     "execution_count": 62,
     "metadata": {},
     "output_type": "execute_result"
    },
    {
     "data": {
      "image/png": "[encoded data removed]",
      "text/plain": [
       "<Figure size 432x288 with 7 Axes>"
      ]
     },
     "metadata": {
      "needs_background": "light"
     },
     "output_type": "display_data"
    }
   ],
   "source": [
    "# amaze occurence at which frame, with cumulative plot\n",
    "fig, axes = plt.subplots(7, 1)\n",
    "\n",
    "upset_count = 1\n",
    "annoyed_count = 1\n",
    "distress_count = 1\n",
    "satisfied_count = 1\n",
    "dissatisfied_count = 1\n",
    "neutral_count = 1\n",
    "amazed_count = 1\n",
    "\n",
    "c_upset = []\n",
    "c_annoyed = []\n",
    "c_distress = []\n",
    "c_satisfied = []\n",
    "c_dissatisfied = []\n",
    "c_neutral = []\n",
    "c_amazed = []\n",
    "\n",
    "for i in emotions:\n",
    "    if i == 'Upset':\n",
    "        upset_count += 1\n",
    "        c_upset.append(upset_count)\n",
    "    else:\n",
    "        c_upset.append(upset_count)\n",
    "\n",
    "    if i == 'Annoyed':\n",
    "        annoyed_count += 1\n",
    "        c_annoyed.append(annoyed_count)\n",
    "    else:\n",
    "        c_annoyed.append(annoyed_count)\n",
    "\n",
    "    if i == 'Distress':\n",
    "        distress_count += 1\n",
    "        c_distress.append(distress_count)\n",
    "    else:\n",
    "        c_distress.append(distress_count)\n",
    "\n",
    "    if i == 'Satisfied':\n",
    "        satisfied_count += 1\n",
    "        c_satisfied.append(satisfied_count)\n",
    "    else:\n",
    "        c_satisfied.append(satisfied_count)\n",
    "    \n",
    "    if i == 'Dissatisfied':\n",
    "        dissatisfied_count += 1\n",
    "        c_dissatisfied.append(dissatisfied_count)\n",
    "    else:\n",
    "        c_dissatisfied.append(dissatisfied_count)\n",
    "        \n",
    "    if i == 'Amazed':\n",
    "        amazed_count += 1\n",
    "        c_amazed.append(dissatisfied_count)\n",
    "    else:\n",
    "        c_amazed.append(dissatisfied_count)\n",
    "    \n",
    "    if i == 'Neutral':\n",
    "        neutral_count += 1\n",
    "        c_neutral.append(neutral_count)\n",
    "    else:\n",
    "        c_neutral.append(neutral_count)\n",
    "\n",
    "#change in emotions\n",
    "l = 0\n",
    "for k in range(100, frame_no, 100):\n",
    "    change = (c_upset[k] - c_upset[l])/100\n",
    "    if change >= 0.1:\n",
    "        print('increase in Upset emotions between', l, 'and', k)\n",
    "    l = k\n",
    "\n",
    "l = 0\n",
    "for k in range(100, frame_no, 100):\n",
    "    change = (c_annoyed[k] - c_annoyed[l])/100\n",
    "    if change >= 0.1:\n",
    "        print('increase in Annoyed emotions between', l, 'and', k)\n",
    "    l = k\n",
    "\n",
    "l = 0\n",
    "for k in range(100, frame_no, 100):\n",
    "    change = (c_distress[k] - c_distress[l])/100\n",
    "    if change >= 0.1:\n",
    "        print('increase in Distress emotions between', l, 'and', k)\n",
    "    l = k\n",
    "\n",
    "l = 0\n",
    "for k in range(100, frame_no, 100):\n",
    "    change = (c_satisfied[k] - c_satisfied[l])/100\n",
    "    if change >= 0.1:\n",
    "        print('increase in Satisfied emotions between', l, 'and', k)\n",
    "    l = k\n",
    "    \n",
    "########################################################################################3    \n",
    "l = 0\n",
    "for k in range(100, frame_no, 100):\n",
    "    change = (c_dissatisfied[k] - c_dissatisfied[l])/100\n",
    "    if change >= 0.1:\n",
    "        print('increase in Dissatisfied emotions between', l, 'and', k)\n",
    "    l = k\n",
    "\n",
    "l = 0\n",
    "for k in range(100, frame_no, 100):\n",
    "    change = (c_neutral[k] - c_neutral[l])/100\n",
    "    if change >= 0.1:\n",
    "        print('increase in Neutral emotions between', l, 'and', k)\n",
    "    l = k\n",
    "\n",
    "# cumulative plot\n",
    "#j = 0\n",
    "#c_engaged = []\n",
    "# for i in emotions:\n",
    "#    if i == 'Engaged':\n",
    "#        j += 1\n",
    "#        c_engaged.append(j)\n",
    "#    else:\n",
    "#        c_engaged.append(j)\n",
    "\n",
    "axes[0].plot(frame_nox, c_upset, 'r')\n",
    "axes[1].plot(frame_nox, c_annoyed, 'g')\n",
    "axes[2].plot(frame_nox, c_distress, 'b')\n",
    "axes[3].plot(frame_nox, c_satisfied, 'y')\n",
    "axes[3].plot(frame_nox, c_dissatisfied, 'p')\n",
    "axes[3].plot(frame_nox, c_neutral, 'm')\n",
    "axes[3].plot(frame_nox, c_amazed, 'o')\n",
    "\n",
    "plt.savefig('3.jpg')"
   ]
  },
  {
   "cell_type": "code",
   "execution_count": 8,
   "metadata": {},
   "outputs": [],
   "source": [
    "import csv\n",
    "import numpy as np\n",
    "import matplotlib.pyplot as plt\n",
    "\n",
    "emotions_names = ['Upset', 'Annoyed', 'Distress', 'Satisfied', 'Dissatisfied', 'Amazed', 'Neutral']\n",
    "emotions = []\n",
    "with open('results.csv', 'r') as csv_file:\n",
    "    csv_reader = csv.DictReader(csv_file)\n",
    "\n",
    "    frame_no = 0\n",
    "    frame_nox = []\n",
    "    for line in csv_reader:\n",
    "        frame_no += 1\n",
    "        frame_nox.append(frame_no)\n",
    "        emotions.append(line[\"class\"])\n",
    "\n",
    "# bar plot, plotting the frequency of each emotion\n",
    "upset_frequency = emotions.count('Upset')\n",
    "annoyed_frequency = emotions.count('Annoyed')\n",
    "distress_frequency = emotions.count('Distress')\n",
    "satisfied_frequency = emotions.count('Satisfied')\n",
    "dissatisfied_frequency = emotions.count('Dissatisfied')\n",
    "neutral_frequency = emotions.count('Neutral')\n",
    "amazed_frequency = emotions.count('Amazed')\n",
    "\n",
    "\n",
    "frequency_all = [upset_frequency, annoyed_frequency, distress_frequency, satisfied_frequency, dissatisfied_frequency, neutral_frequency, amazed_frequency]\n",
    "\n",
    "#plt.bar(emotions_names, frequency_all)\n",
    "#plt.savefig('1.jpg')"
   ]
  },
  {
   "cell_type": "code",
   "execution_count": null,
   "metadata": {},
   "outputs": [],
   "source": []
  }
 ],
 "metadata": {
  "kernelspec": {
   "display_name": "Python 3",
   "language": "python",
   "name": "python3"
  },
  "language_info": {
   "codemirror_mode": {
    "name": "ipython",
    "version": 3
   },
   "file_extension": ".py",
   "mimetype": "text/x-python",
   "name": "python",
   "nbconvert_exporter": "python",
   "pygments_lexer": "ipython3",
   "version": "3.8.8"
  }
 },
 "nbformat": 4,
 "nbformat_minor": 4
}
